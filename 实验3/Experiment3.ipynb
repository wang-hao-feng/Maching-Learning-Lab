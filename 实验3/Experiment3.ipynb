{
 "cells": [
  {
   "cell_type": "code",
   "execution_count": 1,
   "id": "9932a712-28c7-4e05-a39c-ee14239cabc0",
   "metadata": {},
   "outputs": [],
   "source": [
    "import numpy as np\n",
    "import matplotlib.pyplot as plt\n",
    "from scipy.stats import multivariate_normal as MG\n",
    "from tqdm import tqdm"
   ]
  },
  {
   "cell_type": "code",
   "execution_count": 2,
   "id": "db417cc7-7587-4465-a5d4-d793d6ca6a60",
   "metadata": {},
   "outputs": [],
   "source": [
    "def Initial_miu(X, k):\n",
    "    miu = [np.random.randint(X.shape[1])]\n",
    "    while len(miu) < k:\n",
    "        dis = np.ones(X.shape[1]) * np.infty\n",
    "        for i in range(X.shape[1]):\n",
    "            if i in miu:\n",
    "                continue;\n",
    "            for j in miu:\n",
    "                dis[i] = min(dis[i], np.sum((X[:, i] - X[:, j]) ** 2))\n",
    "        miu.append(np.argmax(dis))\n",
    "    for i in range(k):\n",
    "        miu[i] = X[:, [i]].copy()\n",
    "    return np.array(miu)\n",
    "\n",
    "def KE(X, miu):\n",
    "    cluster = np.zeros((0, X.shape[1]))\n",
    "    for i in range(miu.shape[0]):\n",
    "        cluster = np.vstack([cluster, np.sum((X - miu[i]) ** 2, axis=0)])\n",
    "    return np.argmin(cluster, axis=0)\n",
    "\n",
    "def K_means(X, k, echo=False):\n",
    "    threshold = 1e-6\n",
    "    n = 0\n",
    "    \n",
    "    #初始化均值\n",
    "    miu = Initial_miu(X, k)\n",
    "    \n",
    "    while 1:\n",
    "        temp = miu.copy()\n",
    "        #计算类别\n",
    "        cluster = KE(X, miu)\n",
    "        \n",
    "        #更新均值\n",
    "        for i in range(miu.shape[0]):\n",
    "            miu[i] = np.average([X[:, [j]] for j in range(X.shape[1]) if cluster[j] == i], axis=0)\n",
    "        \n",
    "        if np.sum((temp - miu) ** 2) < threshold:\n",
    "            break\n",
    "        \n",
    "        if(echo and n > echo):\n",
    "            break\n",
    "        \n",
    "        n += 1\n",
    "    \n",
    "    return miu"
   ]
  },
  {
   "cell_type": "code",
   "execution_count": 3,
   "id": "5d77bd2e-bc8a-48b3-b71d-77e58f1175df",
   "metadata": {},
   "outputs": [],
   "source": [
    "def GMME(X, k, alpha, miu, sigma):\n",
    "    gama = np.zeros((X.shape[1], k))\n",
    "    for j in range(X.shape[1]):\n",
    "        for i in range(k):\n",
    "            gama[j][i] = alpha[i] * MG.pdf(X[:, j], miu[i].flatten(), sigma[i])\n",
    "    gama /= np.sum(gama, axis=1).reshape((X.shape[1], 1))\n",
    "    return gama\n",
    "\n",
    "def GMM(X, k, echo=100000, echo2=False):\n",
    "    #X(m, n)\n",
    "    #初始化\n",
    "    miu = K_means(X, k, echo2)\n",
    "    sigma = np.array([np.eye(X.shape[0]) for _ in range(k)])\n",
    "    alpha = np.ones(k) / k\n",
    "    \n",
    "    for t in tqdm(range(echo)):\n",
    "        #E步\n",
    "        gama = GMME(X, k, alpha, miu, sigma)\n",
    "        \n",
    "        #M步\n",
    "        alpha = np.sum(gama, axis=0)\n",
    "        sigma = np.zeros_like(sigma)\n",
    "        miu = np.zeros_like(miu)\n",
    "        for i in range(k):\n",
    "            for j in range(X.shape[1]):\n",
    "                miu[i] += gama[j][i] * X[:, [j]]\n",
    "            miu[i] /= alpha[i]\n",
    "            for j in range(X.shape[1]):\n",
    "                temp = X[:, [j]] - miu[i]\n",
    "                sigma[i] += gama[j][i] * temp.dot(temp.T)\n",
    "            sigma[i] /= alpha[i]\n",
    "        alpha /= X.shape[1]\n",
    "    \n",
    "    return alpha, miu, sigma"
   ]
  },
  {
   "cell_type": "code",
   "execution_count": 4,
   "id": "4f8c3d9d-97cb-415c-bda1-1da092abef67",
   "metadata": {},
   "outputs": [],
   "source": [
    "def draw(X, Y):\n",
    "    color = ['r', 'y', 'b']\n",
    "    shape = ['o', 'x', '+']\n",
    "    for i in range(X.shape[1]):\n",
    "        plt.scatter(X[0, i], X[1, i], marker=shape[Y[i]], color=color[Y[i]])\n",
    "    plt.show()"
   ]
  },
  {
   "cell_type": "code",
   "execution_count": 5,
   "id": "a9082003-d01a-415a-bf7d-d6f0cbdfceae",
   "metadata": {},
   "outputs": [],
   "source": [
    "n = 300\n",
    "num = 1\n",
    "miu_real = [np.array([-num, -num]), np.array([num, -num]), np.array([0, num])]\n",
    "sigma_real = [np.eye(2) * np.random.rand() for _ in range(3)]\n",
    "alpha_real = [0.2, 0.5]\n",
    "Y_real = (np.random.rand(n) > alpha_real[0]).astype('int') + (np.random.rand(n) > alpha_real[1]).astype('int')\n",
    "X = []\n",
    "for i in range(n):\n",
    "    idx = Y_real[i]\n",
    "    X.append(np.random.multivariate_normal(miu_real[idx], sigma_real[idx]))\n",
    "X = np.array(X).T"
   ]
  },
  {
   "cell_type": "code",
   "execution_count": 6,
   "id": "c436d002-b338-40c8-bbc6-96ad0ae8030e",
   "metadata": {},
   "outputs": [
    {
     "data": {
      "image/png": "[encoded data removed]",
      "text/plain": [
       "<Figure size 432x288 with 1 Axes>"
      ]
     },
     "metadata": {
      "needs_background": "light"
     },
     "output_type": "display_data"
    }
   ],
   "source": [
    "draw(X, Y_real)"
   ]
  },
  {
   "cell_type": "code",
   "execution_count": 7,
   "id": "2dc75ba8-87fe-453c-87f6-e7e588f00387",
   "metadata": {},
   "outputs": [],
   "source": [
    "k = 3"
   ]
  },
  {
   "cell_type": "code",
   "execution_count": 8,
   "id": "56ae933f-1130-4f76-a204-31b3ede61697",
   "metadata": {},
   "outputs": [],
   "source": [
    "miu1 = K_means(X, k)"
   ]
  },
  {
   "cell_type": "code",
   "execution_count": 9,
   "id": "66b7a95e-c441-42f0-b202-c82041065615",
   "metadata": {},
   "outputs": [],
   "source": [
    "Y1 = KE(X, miu1)"
   ]
  },
  {
   "cell_type": "code",
   "execution_count": 10,
   "id": "5692e4cc-9651-41b3-b86a-95c5eee939b9",
   "metadata": {},
   "outputs": [
    {
     "data": {
      "image/png": "[encoded data removed]",
      "text/plain": [
       "<Figure size 432x288 with 1 Axes>"
      ]
     },
     "metadata": {
      "needs_background": "light"
     },
     "output_type": "display_data"
    }
   ],
   "source": [
    "draw(X, Y1)"
   ]
  },
  {
   "cell_type": "code",
   "execution_count": 11,
   "id": "b39dbb53-1562-4a44-8b69-5518e2ca70f5",
   "metadata": {},
   "outputs": [
    {
     "name": "stderr",
     "output_type": "stream",
     "text": [
      "100%|██████████████████████████████████████████████████████████████████████████████████| 50/50 [00:05<00:00,  9.96it/s]\n"
     ]
    }
   ],
   "source": [
    "alpha, miu, sigma = GMM(X, k, 50)"
   ]
  },
  {
   "cell_type": "code",
   "execution_count": 12,
   "id": "f9d83627-21c4-4f26-945b-1a5f5a766b84",
   "metadata": {},
   "outputs": [],
   "source": [
    "Y2 = np.argmax(GMME(X, k, alpha, miu, sigma), axis=1)"
   ]
  },
  {
   "cell_type": "code",
   "execution_count": 13,
   "id": "81945883-584a-46b6-81bc-b7ffa8baed17",
   "metadata": {},
   "outputs": [
    {
     "name": "stdout",
     "output_type": "stream",
     "text": [
      "[0.2, 0.5]\n",
      "[0.38992172 0.49839234 0.11168593]\n"
     ]
    }
   ],
   "source": [
    "print(alpha_real)\n",
    "print(alpha)"
   ]
  },
  {
   "cell_type": "code",
   "execution_count": 14,
   "id": "6428396a-4ef5-4f42-addf-0f64823e8734",
   "metadata": {},
   "outputs": [
    {
     "name": "stdout",
     "output_type": "stream",
     "text": [
      "[array([-1, -1]), array([ 1, -1]), array([0, 1])]\n",
      "[[[ 0.05622333]\n",
      "  [ 1.07949114]]\n",
      "\n",
      " [[ 0.9961998 ]\n",
      "  [-1.01344529]]\n",
      "\n",
      " [[-1.28859858]\n",
      "  [-0.57686972]]]\n"
     ]
    }
   ],
   "source": [
    "print(miu_real)\n",
    "print(miu)"
   ]
  },
  {
   "cell_type": "code",
   "execution_count": 15,
   "id": "84442b32-fd40-4e44-b966-bf3395392c5e",
   "metadata": {},
   "outputs": [
    {
     "name": "stdout",
     "output_type": "stream",
     "text": [
      "[array([[0.15401791, 0.        ],\n",
      "       [0.        , 0.15401791]]), array([[0.12400811, 0.        ],\n",
      "       [0.        , 0.12400811]]), array([[0.63992835, 0.        ],\n",
      "       [0.        , 0.63992835]])]\n",
      "[[[ 0.61872913  0.03126732]\n",
      "  [ 0.03126732  0.43276116]]\n",
      "\n",
      " [[ 0.11296431  0.0063979 ]\n",
      "  [ 0.0063979   0.12611463]]\n",
      "\n",
      " [[ 0.34984941 -0.18321799]\n",
      "  [-0.18321799  0.65368268]]]\n"
     ]
    }
   ],
   "source": [
    "print(sigma_real)\n",
    "print(sigma)"
   ]
  },
  {
   "cell_type": "code",
   "execution_count": 16,
   "id": "ea78a386-eb05-4ed9-8ffb-5a74b1a8bbb6",
   "metadata": {},
   "outputs": [
    {
     "data": {
      "image/png": "[encoded data removed]",
      "text/plain": [
       "<Figure size 432x288 with 1 Axes>"
      ]
     },
     "metadata": {
      "needs_background": "light"
     },
     "output_type": "display_data"
    }
   ],
   "source": [
    "draw(X, Y2)"
   ]
  },
  {
   "cell_type": "code",
   "execution_count": 17,
   "id": "20574922-4111-43ea-aadb-99bbe5cd640e",
   "metadata": {},
   "outputs": [],
   "source": [
    "import pandas as pd"
   ]
  },
  {
   "cell_type": "code",
   "execution_count": 18,
   "id": "dc136240-a72e-4025-b345-5075b34a8f54",
   "metadata": {},
   "outputs": [],
   "source": [
    "datapath = 'Rice_Osmancik_Cammeo_Dataset.csv'\n",
    "data = pd.read_csv(datapath)"
   ]
  },
  {
   "cell_type": "code",
   "execution_count": 24,
   "id": "7223ff2a-084d-45fd-97a5-b455e939a006",
   "metadata": {},
   "outputs": [
    {
     "name": "stdout",
     "output_type": "stream",
     "text": [
      "(7, 3810)\n"
     ]
    }
   ],
   "source": [
    "#处理数据，将数据存入矩阵中\n",
    "attributes = data.columns\n",
    "Y = list(data[attributes[-1]])\n",
    "for i in range(len(Y)):\n",
    "     Y[i] = 1 if Y[i] == 'Cammeo' else 0\n",
    "Y = np.array(Y)\n",
    "Y = Y.reshape((len(Y), 1))\n",
    "attributes = attributes[:-1]\n",
    "X_uci = np.zeros((len(Y), 0))\n",
    "for attribute in attributes:\n",
    "    X_uci = np.hstack([X_uci, np.array(data[attribute]).reshape(len(Y), 1)])\n",
    "X_uci = (X_uci - np.min(X_uci, axis=0)) / (np.max(X_uci, axis=0) - np.min(X_uci, axis=0))\n",
    "X_uci = X_uci.T\n",
    "print(X_uci.shape)"
   ]
  },
  {
   "cell_type": "code",
   "execution_count": 25,
   "id": "a034967d-8933-4439-8edf-e5af09b65115",
   "metadata": {},
   "outputs": [
    {
     "name": "stderr",
     "output_type": "stream",
     "text": [
      "100%|██████████████████████████████████████████████████████████████████████████████████| 50/50 [01:16<00:00,  1.52s/it]\n"
     ]
    }
   ],
   "source": [
    "k_uci = 2\n",
    "alpha_uci, miu_uci, sigma_uci = GMM(X_uci, k_uci, 50)"
   ]
  },
  {
   "cell_type": "code",
   "execution_count": 27,
   "id": "515dc885-3125-4f81-b64a-43d74368eee0",
   "metadata": {},
   "outputs": [],
   "source": [
    "Y_uci = np.argmax(GMME(X_uci, k_uci, alpha_uci, miu_uci, sigma_uci), axis=1)"
   ]
  },
  {
   "cell_type": "code",
   "execution_count": 45,
   "id": "806a9775-5ee7-4e23-87b4-027c6a8a8752",
   "metadata": {},
   "outputs": [],
   "source": [
    "neg = X_uci.T[(Y==0).flatten()].T\n",
    "pos = X_uci.T[(Y==1).flatten()].T"
   ]
  },
  {
   "cell_type": "code",
   "execution_count": 46,
   "id": "2fff6178-e6bd-477f-b8df-584ae7829b35",
   "metadata": {},
   "outputs": [
    {
     "name": "stdout",
     "output_type": "stream",
     "text": [
      "[array([0.5819303 , 0.67780122, 0.64231117, 0.60893771, 0.72501644,\n",
      "       0.59523796, 0.42351801]), array([0.35194363, 0.37135988, 0.33092909, 0.51961286, 0.57993619,\n",
      "       0.35834966, 0.47405267])]\n"
     ]
    }
   ],
   "source": [
    "print([np.average(pos, axis=1), np.average(neg, axis=1)])"
   ]
  },
  {
   "cell_type": "code",
   "execution_count": 47,
   "id": "8eadc06d-58a8-4e51-bdb2-809df9095a5c",
   "metadata": {},
   "outputs": [
    {
     "name": "stdout",
     "output_type": "stream",
     "text": [
      "[[[0.5475837 ]\n",
      "  [0.64250895]\n",
      "  [0.61547313]\n",
      "  [0.57793027]\n",
      "  [0.73206365]\n",
      "  [0.55975932]\n",
      "  [0.42061587]]\n",
      "\n",
      " [[0.35076753]\n",
      "  [0.35907053]\n",
      "  [0.30920285]\n",
      "  [0.53724553]\n",
      "  [0.54979478]\n",
      "  [0.35724204]\n",
      "  [0.48500971]]]\n"
     ]
    }
   ],
   "source": [
    "print(miu_uci)"
   ]
  },
  {
   "cell_type": "code",
   "execution_count": 48,
   "id": "a2644c36-7680-4d68-93af-2fc716258f03",
   "metadata": {},
   "outputs": [
    {
     "name": "stdout",
     "output_type": "stream",
     "text": [
      "[[ 0.01282604  0.01236099  0.00981268  0.01075683 -0.00159672  0.01300398\n",
      "   0.00157676]\n",
      " [ 0.01236099  0.01372367  0.01201759  0.00833073  0.00124411  0.01265615\n",
      "  -0.00093275]\n",
      " [ 0.00981268  0.01201759  0.01215119  0.00432064  0.00396531  0.00996339\n",
      "  -0.00097965]\n",
      " [ 0.01075683  0.00833073  0.00432064  0.01241889 -0.00579671  0.01093417\n",
      "   0.00296345]\n",
      " [-0.00159672  0.00124411  0.00396531 -0.00579671  0.00613934 -0.00162518\n",
      "  -0.00250086]\n",
      " [ 0.01300398  0.01265615  0.00996339  0.01093417 -0.00162518  0.01324884\n",
      "   0.00145011]\n",
      " [ 0.00157676 -0.00093275 -0.00097965  0.00296345 -0.00250086  0.00145011\n",
      "   0.05109478]]\n",
      "\n",
      "[[ 0.0084091   0.00901939  0.00680862  0.00822557 -0.00164826  0.00854754\n",
      "   0.00033203]\n",
      " [ 0.00901939  0.01132993  0.00962202  0.00675856  0.00185804  0.00925804\n",
      "  -0.00181338]\n",
      " [ 0.00680862  0.00962202  0.00997399  0.0024199   0.00589514  0.00689157\n",
      "  -0.00217744]\n",
      " [ 0.00822557  0.00675856  0.0024199   0.01219901 -0.00863117  0.00842571\n",
      "   0.00252458]\n",
      " [-0.00164826  0.00185804  0.00589514 -0.00863117  0.01237718 -0.00175478\n",
      "  -0.0039804 ]\n",
      " [ 0.00854754  0.00925804  0.00689157  0.00842571 -0.00175478  0.00872826\n",
      "   0.00022196]\n",
      " [ 0.00033203 -0.00181338 -0.00217744  0.00252458 -0.0039804   0.00022196\n",
      "   0.03957484]]\n"
     ]
    }
   ],
   "source": [
    "print(np.cov(pos))\n",
    "print()\n",
    "print(np.cov(neg))"
   ]
  },
  {
   "cell_type": "code",
   "execution_count": 49,
   "id": "d8b899ff-b885-422e-8eec-f8eeaf7457eb",
   "metadata": {},
   "outputs": [
    {
     "name": "stdout",
     "output_type": "stream",
     "text": [
      "[[[ 0.01798309  0.01805533  0.01436265  0.01516998 -0.00214361\n",
      "    0.01835414  0.00177098]\n",
      "  [ 0.01805533  0.01970937  0.01643017  0.01371333 -0.00010292\n",
      "    0.01856315 -0.00034671]\n",
      "  [ 0.01436265  0.01643017  0.01506527  0.00914278  0.002132\n",
      "    0.01467177 -0.00029386]\n",
      "  [ 0.01516998  0.01371333  0.00914278  0.0153959  -0.00509774\n",
      "    0.01551872  0.00272189]\n",
      "  [-0.00214361 -0.00010292  0.002132   -0.00509774  0.00448189\n",
      "   -0.00220473 -0.0018953 ]\n",
      "  [ 0.01835414  0.01856315  0.01467177  0.01551872 -0.00220473\n",
      "    0.01879786  0.00166176]\n",
      "  [ 0.00177098 -0.00034671 -0.00029386  0.00272189 -0.0018953\n",
      "    0.00166176  0.05224083]]\n",
      "\n",
      " [[ 0.00902782  0.00934428  0.00665067  0.00942381 -0.00271244\n",
      "    0.00918086  0.00058912]\n",
      "  [ 0.00934428  0.01069073  0.00807124  0.00871834 -0.00077724\n",
      "    0.00958628 -0.00098971]\n",
      "  [ 0.00665067  0.00807124  0.00721632  0.00465475  0.00221192\n",
      "    0.00674195 -0.00088572]\n",
      "  [ 0.00942381  0.00871834  0.00465475  0.01221866 -0.00711824\n",
      "    0.00963994  0.00178865]\n",
      "  [-0.00271244 -0.00077724  0.00221192 -0.00711824  0.008671\n",
      "   -0.00282742 -0.0025253 ]\n",
      "  [ 0.00918086  0.00958628  0.00674195  0.00963994 -0.00282742\n",
      "    0.00937347  0.00047688]\n",
      "  [ 0.00058912 -0.00098971 -0.00088572  0.00178865 -0.0025253\n",
      "    0.00047688  0.0357003 ]]]\n"
     ]
    }
   ],
   "source": [
    "print(sigma_uci)"
   ]
  },
  {
   "cell_type": "code",
   "execution_count": 50,
   "id": "e8feef49-8ada-48bb-a266-42355971469f",
   "metadata": {},
   "outputs": [
    {
     "name": "stdout",
     "output_type": "stream",
     "text": [
      "[0.42782152230971127, 0.5721784776902887]\n"
     ]
    }
   ],
   "source": [
    "print([pos.shape[1] / len(Y), neg.shape[1] / len(Y)])"
   ]
  },
  {
   "cell_type": "code",
   "execution_count": 51,
   "id": "7f7f7c93-73e2-4279-9523-556cef9c43d4",
   "metadata": {},
   "outputs": [
    {
     "name": "stdout",
     "output_type": "stream",
     "text": [
      "[0.5059002 0.4940998]\n"
     ]
    }
   ],
   "source": [
    "print(alpha_uci)"
   ]
  },
  {
   "cell_type": "code",
   "execution_count": null,
   "id": "393a1f5d-f10a-4819-8f23-24a74771fcf3",
   "metadata": {},
   "outputs": [],
   "source": []
  }
 ],
 "metadata": {
  "kernelspec": {
   "display_name": "Python 3 (ipykernel)",
   "language": "python",
   "name": "python3"
  },
  "language_info": {
   "codemirror_mode": {
    "name": "ipython",
    "version": 3
   },
   "file_extension": ".py",
   "mimetype": "text/x-python",
   "name": "python",
   "nbconvert_exporter": "python",
   "pygments_lexer": "ipython3",
   "version": "3.8.12"
  }
 },
 "nbformat": 4,
 "nbformat_minor": 5
}
